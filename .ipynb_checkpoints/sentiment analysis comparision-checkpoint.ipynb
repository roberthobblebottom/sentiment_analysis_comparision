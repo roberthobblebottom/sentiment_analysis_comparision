{
 "cells": [
  {
   "cell_type": "markdown",
   "id": "c9454100-bc4a-4218-abed-5f269a731a2a",
   "metadata": {},
   "source": [
    "# Preprocessing\n",
    "Reading only Reddit corpus  \n",
    "Question: Do I need to remove stop words? \n",
    "Answer: Probably, if I  really want to prove the benifits, I will need to do AB testing  \n",
    "  \n",
    "  \n",
    "## Information from the Kaggle Dataset entry page description\n",
    "Reddit Dataset\n",
    "\n",
    "All these Tweets and Comments were extracted using there Respective Apis Tweepy and PRAW.\n",
    "These tweets and Comments Were Made on Narendra Modi and Other Leaders as well as Peoples Opinion Towards the Next Prime Minister of The Nation ( In Context with General Elections Held In India - 2019).\n",
    "All the Tweets and Comments From twitter and Reddit are Cleaned using Pythons re and also NLP with a Sentimental Label to each ranging from -1 to 1.\n",
    "\n",
    "    0 Indicating it is a Neutral Tweet/Comment\n",
    "    1 Indicating a Postive Sentiment\n",
    "    -1 Indicating a Negative Tweet/Comment\n",
    " "
   ]
  },
  {
   "cell_type": "code",
   "execution_count": 1,
   "id": "2bd05e33-5919-45f2-a8c1-0b7262ac9617",
   "metadata": {},
   "outputs": [
    {
     "name": "stderr",
     "output_type": "stream",
     "text": [
      "[nltk_data] Downloading package punkt to /home/ryan/nltk_data...\n",
      "[nltk_data]   Package punkt is already up-to-date!\n",
      "[nltk_data] Downloading package stopwords to /home/ryan/nltk_data...\n",
      "[nltk_data]   Package stopwords is already up-to-date!\n",
      "[nltk_data] Downloading package words to /home/ryan/nltk_data...\n",
      "[nltk_data]   Package words is already up-to-date!\n"
     ]
    },
    {
     "data": {
      "text/html": [
       "<div>\n",
       "<style scoped>\n",
       "    .dataframe tbody tr th:only-of-type {\n",
       "        vertical-align: middle;\n",
       "    }\n",
       "\n",
       "    .dataframe tbody tr th {\n",
       "        vertical-align: top;\n",
       "    }\n",
       "\n",
       "    .dataframe thead th {\n",
       "        text-align: right;\n",
       "    }\n",
       "</style>\n",
       "<table border=\"1\" class=\"dataframe\">\n",
       "  <thead>\n",
       "    <tr style=\"text-align: right;\">\n",
       "      <th></th>\n",
       "      <th>clean_comment</th>\n",
       "      <th>category</th>\n",
       "    </tr>\n",
       "  </thead>\n",
       "  <tbody>\n",
       "    <tr>\n",
       "      <th>23127</th>\n",
       "      <td></td>\n",
       "      <td>0</td>\n",
       "    </tr>\n",
       "    <tr>\n",
       "      <th>31392</th>\n",
       "      <td>this beautiful and very comforting look thank ...</td>\n",
       "      <td>1</td>\n",
       "    </tr>\n",
       "    <tr>\n",
       "      <th>5932</th>\n",
       "      <td>and when you compare them isis they get all wo...</td>\n",
       "      <td>-1</td>\n",
       "    </tr>\n",
       "    <tr>\n",
       "      <th>35650</th>\n",
       "      <td>rahul didn even get bahu for sonia mutts with ...</td>\n",
       "      <td>0</td>\n",
       "    </tr>\n",
       "    <tr>\n",
       "      <th>8200</th>\n",
       "      <td>does this mean namo talking out rakhi sawant ...</td>\n",
       "      <td>-1</td>\n",
       "    </tr>\n",
       "    <tr>\n",
       "      <th>3797</th>\n",
       "      <td>that scout rifle looks dope</td>\n",
       "      <td>0</td>\n",
       "    </tr>\n",
       "    <tr>\n",
       "      <th>23058</th>\n",
       "      <td>aap toh fakir hai modiji</td>\n",
       "      <td>0</td>\n",
       "    </tr>\n",
       "    <tr>\n",
       "      <th>13201</th>\n",
       "      <td>fuck your ram temple and fuck you raja singh y...</td>\n",
       "      <td>-1</td>\n",
       "    </tr>\n",
       "    <tr>\n",
       "      <th>8115</th>\n",
       "      <td>maharashtra great state debate over that but c...</td>\n",
       "      <td>1</td>\n",
       "    </tr>\n",
       "    <tr>\n",
       "      <th>8597</th>\n",
       "      <td>why there much prevalence face covering haryan...</td>\n",
       "      <td>1</td>\n",
       "    </tr>\n",
       "  </tbody>\n",
       "</table>\n",
       "</div>"
      ],
      "text/plain": [
       "                                           clean_comment category\n",
       "23127                                                           0\n",
       "31392  this beautiful and very comforting look thank ...        1\n",
       "5932   and when you compare them isis they get all wo...       -1\n",
       "35650  rahul didn even get bahu for sonia mutts with ...        0\n",
       "8200    does this mean namo talking out rakhi sawant ...       -1\n",
       "3797                        that scout rifle looks dope         0\n",
       "23058                           aap toh fakir hai modiji        0\n",
       "13201  fuck your ram temple and fuck you raja singh y...       -1\n",
       "8115   maharashtra great state debate over that but c...        1\n",
       "8597   why there much prevalence face covering haryan...        1"
      ]
     },
     "execution_count": 1,
     "metadata": {},
     "output_type": "execute_result"
    }
   ],
   "source": [
    "import numpy as np\n",
    "import pandas as pd\n",
    "import matplotlib.pyplot as plt\n",
    "import seaborn as sns\n",
    "from gensim.models import TfidfModel,Word2Vec, LsiModel\n",
    "from gensim.corpora import Dictionary\n",
    "from gensim.test.utils import datapath\n",
    "from gensim import utils\n",
    "from gensim.matutils import corpus2csc\n",
    "\n",
    "import nltk\n",
    "nltk.download('punkt')\n",
    "nltk.download(\"stopwords\")\n",
    "nltk.download(\"words\")\n",
    "from nltk.tokenize import word_tokenize\n",
    "from nltk.corpus import stopwords\n",
    "\n",
    "from sklearn.feature_extraction.text import TfidfVectorizer\n",
    "from sklearn.linear_model import LogisticRegression\n",
    "from sklearn.ensemble import RandomForestClassifier,GradientBoostingClassifier\n",
    "from sklearn.metrics import precision_score, recall_score, confusion_matrix, accuracy_score,\\\n",
    "                            ConfusionMatrixDisplay, classification_report\n",
    "from sklearn.model_selection import train_test_split\n",
    "\n",
    "import re\n",
    "import string\n",
    "pattern = re.compile('[%s]' % re.escape(string.punctuation))\n",
    "\n",
    "df = pd.read_csv(\"Reddit_Data.csv\").astype(\"str\")\n",
    "df.sample(10)"
   ]
  },
  {
   "cell_type": "code",
   "execution_count": 2,
   "id": "f026a956-2908-4747-8f78-750a4ce8a0ed",
   "metadata": {},
   "outputs": [
    {
     "name": "stdout",
     "output_type": "stream",
     "text": [
      "<class 'pandas.core.frame.DataFrame'>\n",
      "RangeIndex: 37249 entries, 0 to 37248\n",
      "Data columns (total 2 columns):\n",
      " #   Column         Non-Null Count  Dtype \n",
      "---  ------         --------------  ----- \n",
      " 0   clean_comment  37249 non-null  object\n",
      " 1   category       37249 non-null  object\n",
      "dtypes: object(2)\n",
      "memory usage: 582.1+ KB\n"
     ]
    }
   ],
   "source": [
    "df.info()"
   ]
  },
  {
   "cell_type": "code",
   "execution_count": 3,
   "id": "bbb76a1f-a2e3-4151-91c3-e8fadac61e76",
   "metadata": {},
   "outputs": [],
   "source": [
    "size_before = df.shape[0]"
   ]
  },
  {
   "cell_type": "code",
   "execution_count": 4,
   "id": "576b38e6-51a9-4b52-af1f-98a03a28b709",
   "metadata": {},
   "outputs": [
    {
     "data": {
      "text/plain": [
       "<AxesSubplot:xlabel='category', ylabel='Count'>"
      ]
     },
     "execution_count": 4,
     "metadata": {},
     "output_type": "execute_result"
    },
    {
     "data": {
      "image/png": "[encoded data removed]",
      "text/plain": [
       "<Figure size 640x480 with 1 Axes>"
      ]
     },
     "metadata": {},
     "output_type": "display_data"
    }
   ],
   "source": [
    "sns.histplot(df.astype(\"str\"),x=\"category\")"
   ]
  },
  {
   "cell_type": "code",
   "execution_count": 5,
   "id": "e9aa7ed0-c983-49da-b4c9-dbfe3ef6936e",
   "metadata": {},
   "outputs": [],
   "source": [
    "# def english_only(x):\n",
    "\n",
    "#     words = x.strip().split()\n",
    "#     for i, z in enumerate(words):\n",
    "#         has_ascii = False\n",
    "\n",
    "#         for character in z:\n",
    "#             print()\n",
    "#             print(character.isascii())\n",
    "#             has_ascii = True if character.isascii()  else False\n",
    "#             if has_ascii: print(character.isascii())\n",
    "#         words[i] = words[i] if has_ascii else \"\"\n",
    "    \n",
    "#     return [word for word in words if word != \"\" ]\n",
    "\n",
    "def text_cleaning(text):\n",
    "    \"\"\"\n",
    "    Clean the text using NLP and regular expressions\n",
    "    \n",
    "    text = Uncleaned text\n",
    "    \"\"\"\n",
    "    text = re.sub(r'https?://\\S+|www\\.\\S+', 'URL', text)\n",
    "    text = re.sub(r'<.*?>', '', text) # replaces html tags\n",
    "    text = ''.join([char for char in text if char in string.printable]) # filter out non printable characters\n",
    "    text = re.sub(r'@\\S+', 'USER', text)# username replacements\n",
    "    table = str.maketrans('', '', string.punctuation)\n",
    "    text = text.translate(table) # translate punctuations?\n",
    "    text = ' '.join([word for word in text.split() if word not in stopwords.words(\"english\")])\n",
    "    return text\n"
   ]
  },
  {
   "cell_type": "code",
   "execution_count": 6,
   "id": "d5fda41d-bbb7-4062-9233-c5af9e4bff56",
   "metadata": {},
   "outputs": [],
   "source": [
    "df.clean_comment = df.clean_comment.apply(lambda x: text_cleaning(x))"
   ]
  },
  {
   "cell_type": "markdown",
   "id": "7ecf1c46-28aa-4e52-ac74-25624bd3281e",
   "metadata": {},
   "source": [
    " instances of comments with mixed ascii and non ascii comments"
   ]
  },
  {
   "cell_type": "code",
   "execution_count": 7,
   "id": "1047461f-7b65-40de-905e-23480cf27d5d",
   "metadata": {},
   "outputs": [
    {
     "data": {
      "text/plain": [
       "'2016'"
      ]
     },
     "execution_count": 7,
     "metadata": {},
     "output_type": "execute_result"
    }
   ],
   "source": [
    "df.loc[34962,\"clean_comment\"]"
   ]
  },
  {
   "cell_type": "code",
   "execution_count": 8,
   "id": "c5bc3409-97f7-4e92-8f09-e1d26e03de79",
   "metadata": {},
   "outputs": [
    {
     "data": {
      "text/plain": [
       "'sachin pilot bjp spoke person aaj tak'"
      ]
     },
     "execution_count": 8,
     "metadata": {},
     "output_type": "execute_result"
    }
   ],
   "source": [
    "df.loc[25835,\"clean_comment\"]"
   ]
  },
  {
   "cell_type": "markdown",
   "id": "5a3c6896-6993-460c-b9ff-3e61b9fe2096",
   "metadata": {},
   "source": [
    "dropping of rows:"
   ]
  },
  {
   "cell_type": "code",
   "execution_count": 9,
   "id": "59a64a87-2d5c-4cb4-84b1-85c4bc99b405",
   "metadata": {},
   "outputs": [],
   "source": [
    "df = df[df.clean_comment != \"\"]"
   ]
  },
  {
   "cell_type": "code",
   "execution_count": 10,
   "id": "29769736-af94-4c10-8c16-9e48afe404de",
   "metadata": {},
   "outputs": [
    {
     "data": {
      "text/plain": [
       "False"
      ]
     },
     "execution_count": 10,
     "metadata": {},
     "output_type": "execute_result"
    }
   ],
   "source": [
    "(df.clean_comment.isna() | df.clean_comment == \"\").any()"
   ]
  },
  {
   "cell_type": "code",
   "execution_count": 11,
   "id": "13974002-6a05-4441-98b8-024dd434c894",
   "metadata": {},
   "outputs": [
    {
     "data": {
      "text/plain": [
       "18       True\n",
       "47       True\n",
       "112      True\n",
       "143      True\n",
       "165      True\n",
       "         ... \n",
       "37223    True\n",
       "37224    True\n",
       "37238    True\n",
       "37239    True\n",
       "37244    True\n",
       "Name: clean_comment, Length: 1549, dtype: bool"
      ]
     },
     "execution_count": 11,
     "metadata": {},
     "output_type": "execute_result"
    }
   ],
   "source": [
    "(df.clean_comment.str.find(\" \") == -1)[lambda x: x == True]"
   ]
  },
  {
   "cell_type": "code",
   "execution_count": 12,
   "id": "142e6df5-6459-45cc-a717-d71bcbde89ca",
   "metadata": {},
   "outputs": [],
   "source": [
    "df = df[df.clean_comment.str.find(\" \") != -1]"
   ]
  },
  {
   "cell_type": "code",
   "execution_count": 13,
   "id": "fd3da695-4334-4fb4-9d2b-417495eae9e0",
   "metadata": {},
   "outputs": [
    {
     "name": "stdout",
     "output_type": "stream",
     "text": [
      "1830  comments was purged\n"
     ]
    }
   ],
   "source": [
    "difference = size_before - df.shape[0]\n",
    "print(difference,\" comments was purged\")"
   ]
  },
  {
   "cell_type": "code",
   "execution_count": 14,
   "id": "ea60c524-4e9d-452d-8471-52f50c1daa72",
   "metadata": {},
   "outputs": [
    {
     "data": {
      "text/html": [
       "<div>\n",
       "<style scoped>\n",
       "    .dataframe tbody tr th:only-of-type {\n",
       "        vertical-align: middle;\n",
       "    }\n",
       "\n",
       "    .dataframe tbody tr th {\n",
       "        vertical-align: top;\n",
       "    }\n",
       "\n",
       "    .dataframe thead th {\n",
       "        text-align: right;\n",
       "    }\n",
       "</style>\n",
       "<table border=\"1\" class=\"dataframe\">\n",
       "  <thead>\n",
       "    <tr style=\"text-align: right;\">\n",
       "      <th></th>\n",
       "      <th>clean_comment</th>\n",
       "      <th>category</th>\n",
       "    </tr>\n",
       "  </thead>\n",
       "  <tbody>\n",
       "    <tr>\n",
       "      <th>24071</th>\n",
       "      <td>haha trying build nation argument invalid heck...</td>\n",
       "      <td>1</td>\n",
       "    </tr>\n",
       "    <tr>\n",
       "      <th>31478</th>\n",
       "      <td>tee shirt politicians</td>\n",
       "      <td>-1</td>\n",
       "    </tr>\n",
       "    <tr>\n",
       "      <th>172</th>\n",
       "      <td>please one start thread asking whether giroud ...</td>\n",
       "      <td>0</td>\n",
       "    </tr>\n",
       "    <tr>\n",
       "      <th>29285</th>\n",
       "      <td>chad modi virgin congress</td>\n",
       "      <td>0</td>\n",
       "    </tr>\n",
       "    <tr>\n",
       "      <th>4548</th>\n",
       "      <td>chances gold stuck temple used public purposes...</td>\n",
       "      <td>1</td>\n",
       "    </tr>\n",
       "    <tr>\n",
       "      <th>20960</th>\n",
       "      <td>think response years culture war people tired</td>\n",
       "      <td>-1</td>\n",
       "    </tr>\n",
       "    <tr>\n",
       "      <th>36510</th>\n",
       "      <td>found young modi guess one</td>\n",
       "      <td>1</td>\n",
       "    </tr>\n",
       "    <tr>\n",
       "      <th>21151</th>\n",
       "      <td>lot better balbalatkari jumla pigs</td>\n",
       "      <td>1</td>\n",
       "    </tr>\n",
       "    <tr>\n",
       "      <th>22303</th>\n",
       "      <td>coz social media pressure</td>\n",
       "      <td>1</td>\n",
       "    </tr>\n",
       "    <tr>\n",
       "      <th>11997</th>\n",
       "      <td>myindmakers weekly political news bbc love rad...</td>\n",
       "      <td>1</td>\n",
       "    </tr>\n",
       "    <tr>\n",
       "      <th>18717</th>\n",
       "      <td>get upvotes randian 101 agar randian survive k...</td>\n",
       "      <td>1</td>\n",
       "    </tr>\n",
       "    <tr>\n",
       "      <th>37004</th>\n",
       "      <td>issue congress get seats issue bjp get near ma...</td>\n",
       "      <td>1</td>\n",
       "    </tr>\n",
       "    <tr>\n",
       "      <th>20683</th>\n",
       "      <td>anyone vote bjp good conscience way voted 2002...</td>\n",
       "      <td>1</td>\n",
       "    </tr>\n",
       "    <tr>\n",
       "      <th>14667</th>\n",
       "      <td>muslim also want thank rest brothers sis conde...</td>\n",
       "      <td>-1</td>\n",
       "    </tr>\n",
       "    <tr>\n",
       "      <th>24638</th>\n",
       "      <td>industry work company particular continues fac...</td>\n",
       "      <td>1</td>\n",
       "    </tr>\n",
       "    <tr>\n",
       "      <th>9365</th>\n",
       "      <td>everywhere world pattern financier swiss conse...</td>\n",
       "      <td>1</td>\n",
       "    </tr>\n",
       "    <tr>\n",
       "      <th>24375</th>\n",
       "      <td>buddhism learned buddha suggested mantras chan...</td>\n",
       "      <td>1</td>\n",
       "    </tr>\n",
       "    <tr>\n",
       "      <th>32512</th>\n",
       "      <td>take seriously gave lok sabha ticket</td>\n",
       "      <td>-1</td>\n",
       "    </tr>\n",
       "    <tr>\n",
       "      <th>1524</th>\n",
       "      <td>modification india</td>\n",
       "      <td>0</td>\n",
       "    </tr>\n",
       "    <tr>\n",
       "      <th>35251</th>\n",
       "      <td>fucked ghariyals natural habitat pond near sar...</td>\n",
       "      <td>-1</td>\n",
       "    </tr>\n",
       "    <tr>\n",
       "      <th>26238</th>\n",
       "      <td>stick maestra octavia nezha booty needs</td>\n",
       "      <td>0</td>\n",
       "    </tr>\n",
       "    <tr>\n",
       "      <th>25790</th>\n",
       "      <td>rounds counting apparently</td>\n",
       "      <td>1</td>\n",
       "    </tr>\n",
       "    <tr>\n",
       "      <th>24594</th>\n",
       "      <td>almost feel bit bad early adopters two years b...</td>\n",
       "      <td>-1</td>\n",
       "    </tr>\n",
       "    <tr>\n",
       "      <th>28581</th>\n",
       "      <td>side note kuch sharam karo nboa apne sub sabse...</td>\n",
       "      <td>0</td>\n",
       "    </tr>\n",
       "    <tr>\n",
       "      <th>30987</th>\n",
       "      <td>watch republic thing man</td>\n",
       "      <td>0</td>\n",
       "    </tr>\n",
       "    <tr>\n",
       "      <th>19242</th>\n",
       "      <td>reading level headed replies thread get downvo...</td>\n",
       "      <td>0</td>\n",
       "    </tr>\n",
       "    <tr>\n",
       "      <th>28126</th>\n",
       "      <td>domi istorija taiau kaip larisa buvo vadinama ...</td>\n",
       "      <td>0</td>\n",
       "    </tr>\n",
       "    <tr>\n",
       "      <th>32985</th>\n",
       "      <td>idea show hasan minhaj though name sounds fami...</td>\n",
       "      <td>1</td>\n",
       "    </tr>\n",
       "    <tr>\n",
       "      <th>18001</th>\n",
       "      <td>man real threat whatever illusion democracy le...</td>\n",
       "      <td>1</td>\n",
       "    </tr>\n",
       "    <tr>\n",
       "      <th>29211</th>\n",
       "      <td>lol debate finding talk better finding better</td>\n",
       "      <td>1</td>\n",
       "    </tr>\n",
       "  </tbody>\n",
       "</table>\n",
       "</div>"
      ],
      "text/plain": [
       "                                           clean_comment category\n",
       "24071  haha trying build nation argument invalid heck...        1\n",
       "31478                              tee shirt politicians       -1\n",
       "172    please one start thread asking whether giroud ...        0\n",
       "29285                          chad modi virgin congress        0\n",
       "4548   chances gold stuck temple used public purposes...        1\n",
       "20960      think response years culture war people tired       -1\n",
       "36510                         found young modi guess one        1\n",
       "21151                 lot better balbalatkari jumla pigs        1\n",
       "22303                          coz social media pressure        1\n",
       "11997  myindmakers weekly political news bbc love rad...        1\n",
       "18717  get upvotes randian 101 agar randian survive k...        1\n",
       "37004  issue congress get seats issue bjp get near ma...        1\n",
       "20683  anyone vote bjp good conscience way voted 2002...        1\n",
       "14667  muslim also want thank rest brothers sis conde...       -1\n",
       "24638  industry work company particular continues fac...        1\n",
       "9365   everywhere world pattern financier swiss conse...        1\n",
       "24375  buddhism learned buddha suggested mantras chan...        1\n",
       "32512               take seriously gave lok sabha ticket       -1\n",
       "1524                                  modification india        0\n",
       "35251  fucked ghariyals natural habitat pond near sar...       -1\n",
       "26238            stick maestra octavia nezha booty needs        0\n",
       "25790                         rounds counting apparently        1\n",
       "24594  almost feel bit bad early adopters two years b...       -1\n",
       "28581  side note kuch sharam karo nboa apne sub sabse...        0\n",
       "30987                           watch republic thing man        0\n",
       "19242  reading level headed replies thread get downvo...        0\n",
       "28126  domi istorija taiau kaip larisa buvo vadinama ...        0\n",
       "32985  idea show hasan minhaj though name sounds fami...        1\n",
       "18001  man real threat whatever illusion democracy le...        1\n",
       "29211      lol debate finding talk better finding better        1"
      ]
     },
     "execution_count": 14,
     "metadata": {},
     "output_type": "execute_result"
    }
   ],
   "source": [
    "df.sample(30)"
   ]
  },
  {
   "cell_type": "markdown",
   "id": "c67c1523-6bdb-4d5e-a992-266cd0e43e79",
   "metadata": {},
   "source": [
    "Distribution after the purge"
   ]
  },
  {
   "cell_type": "code",
   "execution_count": 15,
   "id": "c3961636-b6fb-4c48-8fdd-65135615d44f",
   "metadata": {},
   "outputs": [
    {
     "data": {
      "text/plain": [
       "<AxesSubplot:xlabel='category', ylabel='Count'>"
      ]
     },
     "execution_count": 15,
     "metadata": {},
     "output_type": "execute_result"
    },
    {
     "data": {
      "image/png": "[encoded data removed]",
      "text/plain": [
       "<Figure size 640x480 with 1 Axes>"
      ]
     },
     "metadata": {},
     "output_type": "display_data"
    }
   ],
   "source": [
    "sns.histplot(df.astype(\"str\"),x=\"category\")"
   ]
  },
  {
   "cell_type": "markdown",
   "id": "5a49e738-8d56-48bc-a6db-2d7fea8f2088",
   "metadata": {},
   "source": [
    "Simple holdout:"
   ]
  },
  {
   "cell_type": "code",
   "execution_count": 16,
   "id": "7cd7fe05-fa6d-4e73-b34d-97a188cb3321",
   "metadata": {},
   "outputs": [],
   "source": [
    "train,test = train_test_split(df,test_size=0.2)"
   ]
  },
  {
   "cell_type": "markdown",
   "id": "ac92f464-8be0-4963-ad80-781a71ce6acc",
   "metadata": {},
   "source": [
    "picking the top 400 words:"
   ]
  },
  {
   "cell_type": "code",
   "execution_count": 17,
   "id": "761d15ab-e3e4-4c7d-99f6-a2aa4ae16231",
   "metadata": {},
   "outputs": [],
   "source": [
    "stop_words = stopwords.words('english')\n",
    "words = set(nltk.corpus.words.words())\n",
    "corpus_words = pd.Series([word for doc in train.clean_comment.to_list() for word in utils.simple_preprocess(str(doc)) if word not in stop_words and word in words])\n",
    "\n",
    "top_400 = corpus_words.groupby(corpus_words).count().sort_values(ascending=False)[:400]"
   ]
  },
  {
   "cell_type": "markdown",
   "id": "bed26cd2-12b8-4c56-aa2c-037ff479f5c8",
   "metadata": {},
   "source": [
    "`simple_preprocess` : Convert a document into a list of lowercase tokens, ignoring tokens that are too short or too long.\n",
    "\n",
    "I don't think `word2vec` can process non english words so I will remove such comments\n"
   ]
  },
  {
   "cell_type": "code",
   "execution_count": 18,
   "id": "ed81f500-c218-46f1-b0ed-2e18feb407f3",
   "metadata": {
    "tags": []
   },
   "outputs": [],
   "source": [
    "def remove_non_top_400(texts): return [[word for word in doc.split(\" \") if word in top_400]\\\n",
    "                                for doc in texts]\n",
    "\n",
    "# def remove_non_english_words(texts):    \n",
    "#     return [[word for word in utils.simple_preprocess(str(doc)) if word.isalpha()]\\\n",
    "#             for doc in texts]\n",
    "\n",
    "corpus_train = train.clean_comment.to_list()\n",
    "categories_train = train.category.to_list()\n",
    "corpus_test =test.clean_comment.to_list()\n",
    "categories_test = test.category.to_list()\n",
    "\n",
    "\n",
    "processed_corpus_train =  remove_non_top_400(corpus_train)\n",
    "processed_corpus_test =  remove_non_top_400(corpus_test)\n",
    "\n",
    "# processed_corpus_train_word2vec = remove_non_english_words(corpus_train)\n",
    "# processed_corpus_test_word2vec =  remove_non_english_words(corpus_test)\n",
    "\n",
    "train_dict = Dictionary(processed_corpus_train)\n",
    "train_bow = [train_dict.doc2bow(doc) for doc in processed_corpus_train]\n",
    "test_dict = Dictionary(processed_corpus_test)\n",
    "test_bow = [test_dict.doc2bow(doc) for doc in processed_corpus_test]\n"
   ]
  },
  {
   "cell_type": "code",
   "execution_count": 19,
   "id": "01556d59-bf56-4766-8dc3-5311d47cbaf3",
   "metadata": {},
   "outputs": [],
   "source": [
    "def modeling_and_print_metrics(vectorised_train,categories_train,vectorised_test,categories_test,classifier):\n",
    "    classifier = classifier\n",
    "    classifier.fit(vectorised_train, categories_train)\n",
    "    predictions = classifier.predict(vectorised_test)\n",
    "\n",
    "#     c = confusion_matrix(categories_test, predictions) \n",
    "#     d = ConfusionMatrixDisplay(confusion_matrix=c,display_labels=classifier.classes_).plot()\n",
    "    \n",
    "    print(classification_report(categories_test,predictions))\n",
    "    "
   ]
  },
  {
   "cell_type": "markdown",
   "id": "c1efbb82-d437-4934-86ec-5b6993025ae7",
   "metadata": {},
   "source": [
    "# Word2Vec \n",
    "\n",
    "from 2nd phase of nllp history"
   ]
  },
  {
   "cell_type": "code",
   "execution_count": 20,
   "id": "acbfc145-ffed-43ec-9ccd-8caeffca1f65",
   "metadata": {},
   "outputs": [],
   "source": [
    "sentences_train = [[word for word in doc] for doc in corpus_train]\n",
    "sentences_test = [[word for word in doc] for doc in corpus_test]\n",
    "\n",
    "word2vect_model = Word2Vec(sentences=sentences_train,vector_size=10)\n",
    "\n",
    "def document_vector(doc):\n",
    "    l = np.zeros((1,10))\n",
    "    for word in doc:\n",
    "        if word in word2vect_model.wv:\n",
    "            l += np.array(word2vect_model.wv[word]).reshape(1,10) \n",
    "    # print(doc)\n",
    "    # if len(doc) == 0 : print(\"length is zero\")\n",
    "    results = (l/len(doc))[0,:]\n",
    "    return results\n",
    "\n",
    "word2vec_train = np.array([document_vector(doc) for doc in sentences_train])\n",
    "word2vec_test = np.array([document_vector(doc) for doc in sentences_test])\n",
    "\n",
    "# word2vec_train = np.nan_to_num(word2vec_train,nan=0)\n",
    "# word2vec_test = np.nan_to_num(word2vec_test,nan=0)"
   ]
  },
  {
   "cell_type": "code",
   "execution_count": 21,
   "id": "e7d77213-d41e-4e2e-a634-4abc45fe4012",
   "metadata": {},
   "outputs": [
    {
     "data": {
      "text/plain": [
       "[['human', 'interface', 'computer'],\n",
       " ['survey', 'user', 'computer', 'system', 'response', 'time'],\n",
       " ['eps', 'user', 'interface', 'system'],\n",
       " ['system', 'human', 'system', 'eps'],\n",
       " ['user', 'response', 'time'],\n",
       " ['trees'],\n",
       " ['graph', 'trees'],\n",
       " ['graph', 'minors', 'trees'],\n",
       " ['graph', 'minors', 'survey']]"
      ]
     },
     "execution_count": 21,
     "metadata": {},
     "output_type": "execute_result"
    }
   ],
   "source": [
    "from gensim.test.utils import common_texts\n",
    "common_texts"
   ]
  },
  {
   "cell_type": "markdown",
   "id": "668db130-29b4-43a7-a8a9-84c1eb51d672",
   "metadata": {},
   "source": [
    "# Latent Sementic Analysis  \n",
    "from 1st phase of nlp history"
   ]
  },
  {
   "cell_type": "code",
   "execution_count": 22,
   "id": "7a676552-7aa4-4d18-9221-29f7c9f9114e",
   "metadata": {},
   "outputs": [],
   "source": [
    "lsi_model_train = LsiModel(corpus=train_bow,id2word=train_dict) \n",
    "lsa_train = lsi_model_train[train_bow] # Vectorised\n",
    "lsa_test = lsi_model_train[test_bow]\n",
    "\n",
    "lsa_train  = corpus2csc(lsa_train).T.toarray() # to numpy array\n",
    "lsa_test  = corpus2csc(lsa_test).T.toarray()"
   ]
  },
  {
   "cell_type": "markdown",
   "id": "d8083a7c-5ba8-4689-ac1a-a011150b38c7",
   "metadata": {},
   "source": [
    "# TF-IDF  \n",
    "from 1st phase of nlp history\n",
    "\n",
    "The commented out codes below hangs my models"
   ]
  },
  {
   "cell_type": "code",
   "execution_count": 23,
   "id": "4afb45d1-6c19-40eb-ab3a-186bea2b2382",
   "metadata": {
    "tags": []
   },
   "outputs": [],
   "source": [
    "# tfidf_model =  TfidfModel(corpus = train_bow,id2word=train_dict)\n",
    "# tfidf_train = tfidf_model[train_bow]\n",
    "# tfidf_test = tfidf_model[test_bow]\n",
    "\n",
    "# tfidf_train  = corpus2csc(tfidf_train).toarray()\n",
    "# tfidf_test  = corpus2csc(tfidf_test).toarray()\n",
    "\n",
    "# tfidf_train\n",
    "\n",
    "# tfidf_train.shape"
   ]
  },
  {
   "cell_type": "markdown",
   "id": "422463ef-3d5e-4338-8c72-8667b8ae5729",
   "metadata": {},
   "source": [
    "## Alternate tfidf vectoriser"
   ]
  },
  {
   "cell_type": "code",
   "execution_count": 24,
   "id": "e0ab54b7-2be1-480b-ad38-ac41fafb8cfc",
   "metadata": {},
   "outputs": [
    {
     "data": {
      "text/plain": [
       "<28335x46701 sparse matrix of type '<class 'numpy.float64'>'\n",
       "\twith 494842 stored elements in Compressed Sparse Row format>"
      ]
     },
     "execution_count": 24,
     "metadata": {},
     "output_type": "execute_result"
    }
   ],
   "source": [
    "vectoriser = TfidfVectorizer(analyzer=\"word\")\n",
    "tfidf_train = vectoriser.fit_transform(corpus_train) \n",
    "tfidf_test = vectoriser.transform(corpus_test) # do not fit again\n",
    "tfidf_train"
   ]
  },
  {
   "cell_type": "markdown",
   "id": "48c853b8-507e-4cb5-91ec-87988884b2e7",
   "metadata": {},
   "source": [
    "# Comparision between Models and vectorisation types"
   ]
  },
  {
   "cell_type": "markdown",
   "id": "0dfc2367-43db-4e6f-94a3-3a68617e9b7f",
   "metadata": {},
   "source": [
    "## Word2Vec  random forest\n",
    "Previous:  \n",
    "                precision    recall  f1-score   support\n",
    "\n",
    "                      -1       0.39      0.13      0.19      1653\n",
    "                       0       0.69      0.66      0.67      2675\n",
    "                       1       0.56      0.78      0.66      3122\n",
    "\n",
    "                accuracy                           0.59      7450  \n",
    "               macro avg       0.55      0.52      0.51      7450  \n",
    "            weighted avg       0.57      0.59      0.56      7450  "
   ]
  },
  {
   "cell_type": "code",
   "execution_count": 25,
   "id": "25698924-5286-417f-9e39-92d9da865843",
   "metadata": {},
   "outputs": [
    {
     "name": "stdout",
     "output_type": "stream",
     "text": [
      "              precision    recall  f1-score   support\n",
      "\n",
      "          -1       0.35      0.08      0.13      1645\n",
      "           0       0.57      0.64      0.60      2288\n",
      "           1       0.55      0.72      0.63      3151\n",
      "\n",
      "    accuracy                           0.55      7084\n",
      "   macro avg       0.49      0.48      0.45      7084\n",
      "weighted avg       0.51      0.55      0.50      7084\n",
      "\n"
     ]
    }
   ],
   "source": [
    "modeling_and_print_metrics(word2vec_train,\n",
    "                   categories_train,\n",
    "                   word2vec_test,\n",
    "                   categories_test,\n",
    "                   RandomForestClassifier()\n",
    "        )"
   ]
  },
  {
   "cell_type": "markdown",
   "id": "5f876037-7624-4556-89f8-0b8d7f585b43",
   "metadata": {},
   "source": [
    "## word2vec logistic regression"
   ]
  },
  {
   "cell_type": "code",
   "execution_count": 26,
   "id": "2ae0532c-9d50-46a1-bb41-b4914b8de75d",
   "metadata": {},
   "outputs": [
    {
     "name": "stdout",
     "output_type": "stream",
     "text": [
      "              precision    recall  f1-score   support\n",
      "\n",
      "          -1       0.47      0.01      0.02      1645\n",
      "           0       0.60      0.45      0.52      2288\n",
      "           1       0.51      0.86      0.64      3151\n",
      "\n",
      "    accuracy                           0.53      7084\n",
      "   macro avg       0.53      0.44      0.39      7084\n",
      "weighted avg       0.53      0.53      0.46      7084\n",
      "\n"
     ]
    },
    {
     "name": "stderr",
     "output_type": "stream",
     "text": [
      "/home/ryan/anaconda3/lib/python3.10/site-packages/sklearn/linear_model/_logistic.py:460: ConvergenceWarning: lbfgs failed to converge (status=1):\n",
      "STOP: TOTAL NO. of ITERATIONS REACHED LIMIT.\n",
      "\n",
      "Increase the number of iterations (max_iter) or scale the data as shown in:\n",
      "    https://scikit-learn.org/stable/modules/preprocessing.html\n",
      "Please also refer to the documentation for alternative solver options:\n",
      "    https://scikit-learn.org/stable/modules/linear_model.html#logistic-regression\n",
      "  n_iter_i = _check_optimize_result(\n"
     ]
    }
   ],
   "source": [
    "modeling_and_print_metrics(word2vec_train,\n",
    "                   categories_train,\n",
    "                   word2vec_test,\n",
    "                   categories_test,\n",
    "                    LogisticRegression())"
   ]
  },
  {
   "cell_type": "markdown",
   "id": "f3e2363d-904d-42cd-8acd-365a655630b5",
   "metadata": {},
   "source": [
    "## word2vec gradient boosting"
   ]
  },
  {
   "cell_type": "code",
   "execution_count": 27,
   "id": "7e922ffe-1c56-4af5-9bde-39ab134d8dcb",
   "metadata": {},
   "outputs": [
    {
     "name": "stdout",
     "output_type": "stream",
     "text": [
      "              precision    recall  f1-score   support\n",
      "\n",
      "          -1       0.40      0.02      0.04      1645\n",
      "           0       0.58      0.60      0.59      2288\n",
      "           1       0.54      0.79      0.64      3151\n",
      "\n",
      "    accuracy                           0.55      7084\n",
      "   macro avg       0.51      0.47      0.42      7084\n",
      "weighted avg       0.52      0.55      0.48      7084\n",
      "\n"
     ]
    }
   ],
   "source": [
    "modeling_and_print_metrics(word2vec_train,\n",
    "                   categories_train,\n",
    "                   word2vec_test,\n",
    "                   categories_test,\n",
    "                   GradientBoostingClassifier())"
   ]
  },
  {
   "cell_type": "markdown",
   "id": "53879bf5-c698-4ed4-a879-8086cc71b6fc",
   "metadata": {},
   "source": [
    "## LSA  random forest\n",
    "previous accruacy: .49"
   ]
  },
  {
   "cell_type": "code",
   "execution_count": 28,
   "id": "22a34797-34ec-43bf-a631-ec9f24223338",
   "metadata": {},
   "outputs": [
    {
     "name": "stdout",
     "output_type": "stream",
     "text": [
      "              precision    recall  f1-score   support\n",
      "\n",
      "          -1       0.25      0.06      0.10      1645\n",
      "           0       0.54      0.64      0.58      2288\n",
      "           1       0.55      0.70      0.62      3151\n",
      "\n",
      "    accuracy                           0.53      7084\n",
      "   macro avg       0.45      0.47      0.43      7084\n",
      "weighted avg       0.48      0.53      0.49      7084\n",
      "\n"
     ]
    }
   ],
   "source": [
    "modeling_and_print_metrics(lsa_train,\n",
    "                   categories_train,\n",
    "                   lsa_test,\n",
    "                   categories_test,\n",
    "                    RandomForestClassifier())"
   ]
  },
  {
   "cell_type": "markdown",
   "id": "80521f91-fcb5-45a1-993f-e30a29d305e3",
   "metadata": {},
   "source": [
    "## LSA gradient boosting classifier\n"
   ]
  },
  {
   "cell_type": "code",
   "execution_count": 29,
   "id": "e11537b2-d1e7-4255-8847-6a7efd11b2f8",
   "metadata": {},
   "outputs": [
    {
     "name": "stdout",
     "output_type": "stream",
     "text": [
      "              precision    recall  f1-score   support\n",
      "\n",
      "          -1       0.29      0.11      0.16      1645\n",
      "           0       0.51      0.72      0.60      2288\n",
      "           1       0.56      0.59      0.58      3151\n",
      "\n",
      "    accuracy                           0.52      7084\n",
      "   macro avg       0.46      0.47      0.44      7084\n",
      "weighted avg       0.48      0.52      0.48      7084\n",
      "\n"
     ]
    }
   ],
   "source": [
    "modeling_and_print_metrics(lsa_train,\n",
    "                   categories_train,\n",
    "                   lsa_test,\n",
    "                   categories_test,\n",
    "                   GradientBoostingClassifier())"
   ]
  },
  {
   "cell_type": "markdown",
   "id": "f89699ff-bfd0-453d-ade4-1a507035314e",
   "metadata": {},
   "source": [
    "## LSA  logistic regression\n"
   ]
  },
  {
   "cell_type": "code",
   "execution_count": 30,
   "id": "9a2165cf-af93-4f73-bdb1-e9ae78a18fd6",
   "metadata": {},
   "outputs": [
    {
     "name": "stdout",
     "output_type": "stream",
     "text": [
      "              precision    recall  f1-score   support\n",
      "\n",
      "          -1       0.32      0.14      0.20      1645\n",
      "           0       0.48      0.76      0.59      2288\n",
      "           1       0.57      0.50      0.53      3151\n",
      "\n",
      "    accuracy                           0.50      7084\n",
      "   macro avg       0.46      0.47      0.44      7084\n",
      "weighted avg       0.48      0.50      0.47      7084\n",
      "\n"
     ]
    },
    {
     "name": "stderr",
     "output_type": "stream",
     "text": [
      "/home/ryan/anaconda3/lib/python3.10/site-packages/sklearn/linear_model/_logistic.py:460: ConvergenceWarning: lbfgs failed to converge (status=1):\n",
      "STOP: TOTAL NO. of ITERATIONS REACHED LIMIT.\n",
      "\n",
      "Increase the number of iterations (max_iter) or scale the data as shown in:\n",
      "    https://scikit-learn.org/stable/modules/preprocessing.html\n",
      "Please also refer to the documentation for alternative solver options:\n",
      "    https://scikit-learn.org/stable/modules/linear_model.html#logistic-regression\n",
      "  n_iter_i = _check_optimize_result(\n"
     ]
    }
   ],
   "source": [
    "modeling_and_print_metrics(lsa_train,\n",
    "                   categories_train,\n",
    "                   lsa_test,\n",
    "                   categories_test,\n",
    "                   LogisticRegression())"
   ]
  },
  {
   "cell_type": "markdown",
   "id": "1ef7d2aa-80f6-46ed-8ac9-822a90691c33",
   "metadata": {},
   "source": [
    "## TF-IDF gradient boosting "
   ]
  },
  {
   "cell_type": "code",
   "execution_count": 31,
   "id": "4bf21769-805e-4f64-a989-3cad29fce4d9",
   "metadata": {},
   "outputs": [
    {
     "name": "stdout",
     "output_type": "stream",
     "text": [
      "              precision    recall  f1-score   support\n",
      "\n",
      "          -1       0.82      0.39      0.53      1645\n",
      "           0       0.63      0.94      0.75      2288\n",
      "           1       0.80      0.73      0.77      3151\n",
      "\n",
      "    accuracy                           0.72      7084\n",
      "   macro avg       0.75      0.69      0.68      7084\n",
      "weighted avg       0.75      0.72      0.71      7084\n",
      "\n"
     ]
    }
   ],
   "source": [
    "modeling_and_print_metrics(tfidf_train,\n",
    "                   categories_train,\n",
    "                   tfidf_test,\n",
    "                   categories_test,\n",
    "                   GradientBoostingClassifier())"
   ]
  },
  {
   "cell_type": "markdown",
   "id": "ed18c617-9210-419e-b7c6-3cea35b79d9a",
   "metadata": {},
   "source": [
    "## TF-IDF linear regression"
   ]
  },
  {
   "cell_type": "code",
   "execution_count": 32,
   "id": "b9f3e978-3d16-4b3b-8144-01abf6c60486",
   "metadata": {},
   "outputs": [
    {
     "name": "stdout",
     "output_type": "stream",
     "text": [
      "              precision    recall  f1-score   support\n",
      "\n",
      "          -1       0.85      0.62      0.72      1645\n",
      "           0       0.79      0.93      0.86      2288\n",
      "           1       0.85      0.86      0.86      3151\n",
      "\n",
      "    accuracy                           0.83      7084\n",
      "   macro avg       0.83      0.81      0.81      7084\n",
      "weighted avg       0.83      0.83      0.83      7084\n",
      "\n"
     ]
    },
    {
     "name": "stderr",
     "output_type": "stream",
     "text": [
      "/home/ryan/anaconda3/lib/python3.10/site-packages/sklearn/linear_model/_logistic.py:460: ConvergenceWarning: lbfgs failed to converge (status=1):\n",
      "STOP: TOTAL NO. of ITERATIONS REACHED LIMIT.\n",
      "\n",
      "Increase the number of iterations (max_iter) or scale the data as shown in:\n",
      "    https://scikit-learn.org/stable/modules/preprocessing.html\n",
      "Please also refer to the documentation for alternative solver options:\n",
      "    https://scikit-learn.org/stable/modules/linear_model.html#logistic-regression\n",
      "  n_iter_i = _check_optimize_result(\n"
     ]
    }
   ],
   "source": [
    "modeling_and_print_metrics(tfidf_train,\n",
    "                   categories_train,\n",
    "                   tfidf_test,\n",
    "                   categories_test,\n",
    "                   LogisticRegression())"
   ]
  }
 ],
 "metadata": {
  "kernelspec": {
   "display_name": "Python 3 (ipykernel)",
   "language": "python",
   "name": "python3"
  },
  "language_info": {
   "codemirror_mode": {
    "name": "ipython",
    "version": 3
   },
   "file_extension": ".py",
   "mimetype": "text/x-python",
   "name": "python",
   "nbconvert_exporter": "python",
   "pygments_lexer": "ipython3",
   "version": "3.10.6"
  }
 },
 "nbformat": 4,
 "nbformat_minor": 5
}
